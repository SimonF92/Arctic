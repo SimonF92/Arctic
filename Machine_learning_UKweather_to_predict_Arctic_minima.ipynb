{
 "cells": [
  {
   "cell_type": "markdown",
   "metadata": {},
   "source": [
    "# Predicting Arctic Sea Ice Minima with UK rainfall and temp data, using machine learning\n",
    "\n",
    "\n",
    "In this tutorial we will use UK rainfall and temp data to perform binary classification on arctic sea ice minima. Specifically speaking, we will try to use the UK rainfall and temperture from Jan-June, to predict if the minima that year will be greater or less than 4.2mnsqkm. This is a deliberately strange dataset to use, designed to show you how creative you can be with your thinking about what affects (correlates with) arctic sea ice minima. \n",
    "\n",
    "### it has many limitations but is written to have a low barrier to entry\n",
    "\n",
    "\n",
    "\n",
    "The first cell reads in the data, which is rainfall and temperature by year (2011-2019) in East England and then creates an array containing the rainfall and temp data for Jan-June of that year.\n",
    "\n",
    "I subset the data to yearly intervals using the 'index' variable within a for loop. As this is monthly data, set into years, the index is 12\n",
    "\n",
    "This cell creates our X, this is our list of training features (the elements we use to train our classification model)"
   ]
  },
  {
   "cell_type": "code",
   "execution_count": 1,
   "metadata": {},
   "outputs": [
    {
     "data": {
      "text/plain": [
       "array([[ 69.5,  71.7,  65.1,  21.4,  22.1,  42.7,   0.8,   1.6,   5.5,\n",
       "          8.2,   9.8,  14.3],\n",
       "       [ 54.5,  82. ,  20.5,  10.3,  48.5,  62.9,   3.1,   5.4,   6. ,\n",
       "         10.7,  11.5,  13.5],\n",
       "       [ 47.2,  24.2,  21.9, 140.9,  62.3, 141.5,   4.3,   3.9,   7.8,\n",
       "          6.4,  10.3,  12.5],\n",
       "       [ 69.8,  34.3,  60.1,  22.1,  76.4,  40.8,   2.8,   2.6,   1.9,\n",
       "          6.8,   9.9,  12.9],\n",
       "       [118.5,  81.8,  44.2,  42. , 104.4,  45.5,   4.5,   5.3,   6.8,\n",
       "          9.3,  11.5,  14.3],\n",
       "       [ 62.7,  37. ,  45.6,  25.6,  82.5,  34.9,   3.5,   3.5,   5.6,\n",
       "          8. ,  10. ,  12.9],\n",
       "       [121.7,  53. ,  66.3,  70.3,  36.2,  76.5,   4.4,   3.9,   5.3,\n",
       "          6.4,  11. ,  13.5],\n",
       "       [ 39.4,  65.9,  63.9,  19.4,  42.9, 116. ,   3.3,   5.3,   7.6,\n",
       "          8.2,  12.2,  15.1],\n",
       "       [ 71.5,  46.7,  95.3,  78.2,  35.5,  26.6,   4.1,   2.1,   3.8,\n",
       "          8.6,  12.2,  14.6],\n",
       "       [ 22.8,  36.2,  82.2,  27.7,  52.1, 114.3,   3.4,   6. ,   7. ,\n",
       "          7.8,  10.3,  13.4]])"
      ]
     },
     "execution_count": 1,
     "metadata": {},
     "output_type": "execute_result"
    }
   ],
   "source": [
    "import pandas as pd\n",
    "import numpy as np\n",
    "from sklearn.model_selection import train_test_split\n",
    "from sklearn import datasets\n",
    "from sklearn import svm\n",
    "from sklearn.model_selection import cross_val_score\n",
    "\n",
    "\n",
    "\n",
    "# read data from https://data.gov.uk/dataset/cb5b2810-2d41-47c0-9ca8-3514808675ac/average-rainfall-and-temperature\n",
    "df=pd.read_csv('rainfalltemp.csv')\n",
    "\n",
    "#only keep year, month, rainfall and temp columns\n",
    "df=df[df['ReportingPeriodType']=='Monthly']\n",
    "df=df.iloc[:,8:12]\n",
    "\n",
    "\n",
    "#create an empty list variable\n",
    "X=[]\n",
    "\n",
    "#initialise the index variable\n",
    "index=0\n",
    "\n",
    "#we are examining 10 years, so a range between 0 and 10 to read through\n",
    "for i in range(0,10):\n",
    "    \n",
    "    #select the range of monthly values for that year\n",
    "    df_sub=df.iloc[index:index+12]\n",
    "    \n",
    "    #select only the jan-june months\n",
    "    df_sub=df_sub.head(6)\n",
    "    \n",
    "    #get the rainfall and temp observations as a list\n",
    "    janjune_rainfall=df_sub['Rainfallmm'].values.tolist()\n",
    "    janjune_temp=df_sub['Temp'].values.tolist()\n",
    "    \n",
    "    #add 12 to the index\n",
    "    index+=12\n",
    "    \n",
    "    #add these to the empty list\n",
    "    X.append(janjune_rainfall+janjune_temp)\n",
    "    \n",
    "\n",
    "\n",
    "#convert the populated list to a numpy array (for the machine learning part)\n",
    "X=np.array(X)\n",
    "X"
   ]
  },
  {
   "cell_type": "markdown",
   "metadata": {},
   "source": [
    "===========================================================================================================\n",
    "===========================================================================================================\n",
    "\n",
    "## create classification labels\n",
    "\n",
    "\n",
    "This cell creates our y variable, our classifications (labels) for the data we use in X to train our model"
   ]
  },
  {
   "cell_type": "code",
   "execution_count": 2,
   "metadata": {},
   "outputs": [
    {
     "data": {
      "text/plain": [
       "array(['false', 'false', 'true', 'false', 'false', 'false', 'true',\n",
       "       'false', 'false', 'true'], dtype='<U5')"
      ]
     },
     "execution_count": 2,
     "metadata": {},
     "output_type": "execute_result"
    }
   ],
   "source": [
    "#add the 2011-2019 minima to a new list\n",
    "\n",
    "mins=[4.615,\n",
    "4.344,\n",
    "3.387,\n",
    "5.054,\n",
    "5.029,\n",
    "4.433,\n",
    "4.165,\n",
    "4.665,\n",
    "4.656,\n",
    "4.192,\n",
    "]\n",
    "\n",
    "#use list comprehension to determine if the minima is less than our classification value of 4.2mnsqkm\n",
    "low_min= ['true' if a < 4.2 else 'false' for a in mins]\n",
    "\n",
    "\n",
    "#typical machine learning uses X and y, so make a y variable of low_min (its the same)\n",
    "y=low_min\n",
    "y=np.array(y)\n",
    "y"
   ]
  },
  {
   "cell_type": "markdown",
   "metadata": {},
   "source": [
    "===========================================================================================================\n",
    "===========================================================================================================\n",
    "\n",
    "## create and train model\n",
    "\n",
    "This cell is the machine learning application. The SVC is trained on our data X, using our labels from Y. In this case our X consists of East England rainfall and temperature data for Jan-June each year, we are attempting a binary classification, to determine if the september minima of that year is > or < 4.2mnsqkm.\n",
    "\n",
    "\n",
    "\n",
    "We use k-fold cross validation to determine how well the model performed.\n",
    "\n",
    "\n",
    "\n",
    "This is intentionally simple, I wish to point out three very important points;\n",
    "\n",
    "-firstly the shape of our data isnt great, i concatenated temperature onto the end of rainfall, thats not ideal.\n",
    "\n",
    "-secondly, we dont have many years on which to train and validate, this can lead to overfitting\n",
    "\n",
    "-thirdly, taking absolute values may not be as good as taking the residuals of observations (this means, subtracting the observations of minima from the linear regression). Using the residual as opposed to the absolute value would be better as the sea ice extent is decreasing year on year regardless\n",
    "\n",
    "\n",
    "### finally, as this is binary classification, randomly guessing would have 50% accuracy, our null-hypothesis for a relationship is in this case, 50%, not 0%\n",
    "\n",
    "### our model out-performs the null hypothesis model, but is also not perfect, at 78%"
   ]
  },
  {
   "cell_type": "code",
   "execution_count": 7,
   "metadata": {},
   "outputs": [
    {
     "name": "stdout",
     "output_type": "stream",
     "text": [
      "77.78 percent accuracy with a standard deviation of 15.71 percent\n"
     ]
    }
   ],
   "source": [
    "# this is the machine learning part, I chose an SVC, with a polynomial kernel and a class weight of 3, there are other kernels\n",
    "# but for this application, polynomial performed the best\n",
    "clf = svm.SVC(kernel='poly',C=3, random_state=42)\n",
    "\n",
    "#k-fold cross validation involved randomly blinding certain groups of years and seeing how the model performs in terms of \n",
    "# correctly assigning them\n",
    "scores = cross_val_score(clf, X, y, cv=3)\n",
    "\n",
    "# the polynomial svc correctly determines if september minima will be less than 4.2mnsqkm 77.8% of the time,\n",
    "# it is only allowed to train on east england rain and temperature data!\n",
    "\n",
    "print(\"%0.2f percent accuracy with a standard deviation of %0.2f percent\" % (scores.mean()*100, scores.std()*100))"
   ]
  },
  {
   "cell_type": "markdown",
   "metadata": {},
   "source": [
    "===========================================================================================================\n",
    "===========================================================================================================\n",
    "\n",
    "## cross check using PCA on rainfall and temp\n",
    "\n",
    "\n",
    "Lastly, i convert the 12 elements of our Xs (6 rainfall and 6 temp measurements) into only 2, using prinicipal component analysis. This allows us to observe on a graph whether their really is a potential relationship.\n",
    "\n",
    "In PCA, typically we are looking for some kind of clustering (some kind of 'blob' or distinction between groups).\n",
    "\n",
    "In this case there actually is weak clustering. Remember, the only data used is East England rain and temp, yet it appears to cluster arctic sea ice minima, and reflects the ML model findings.\n",
    "\n",
    "\n",
    "#### PCA is not regression, clustering is important, not linearity (or other)"
   ]
  },
  {
   "cell_type": "code",
   "execution_count": 185,
   "metadata": {},
   "outputs": [
    {
     "name": "stderr",
     "output_type": "stream",
     "text": [
      "C:\\Users\\2087455F\\Miniconda3\\lib\\site-packages\\seaborn\\_decorators.py:43: FutureWarning: Pass the following variables as keyword args: x, y. From version 0.12, the only valid positional argument will be `data`, and passing other arguments without an explicit keyword will result in an error or misinterpretation.\n",
      "  FutureWarning\n"
     ]
    },
    {
     "data": {
      "text/plain": [
       "<matplotlib.axes._subplots.AxesSubplot at 0x2c32e7262c8>"
      ]
     },
     "execution_count": 185,
     "metadata": {},
     "output_type": "execute_result"
    },
    {
     "data": {
      "image/png": "[encoded data removed]",
      "text/plain": [
       "<Figure size 432x288 with 1 Axes>"
      ]
     },
     "metadata": {
      "needs_background": "light"
     },
     "output_type": "display_data"
    }
   ],
   "source": [
    "import numpy as np\n",
    "from sklearn.decomposition import PCA\n",
    "import seaborn as sns\n",
    "from sklearn.preprocessing import StandardScaler, MaxAbsScaler, MinMaxScaler\n",
    "\n",
    "\n",
    "\n",
    "# scale the X data to fit within scaled boundaries (improves PCA)\n",
    "scaler = MinMaxScaler()\n",
    "scaler.fit(X)\n",
    "X=scaler.transform(X)\n",
    "\n",
    "\n",
    "# reduce dimensions of the data to 2-dimensions (for plotting)\n",
    "pca = PCA(n_components=2)\n",
    "model=pca.fit(X)\n",
    "\n",
    "X_pca=model.transform(X)\n",
    "X_pca\n",
    "\n",
    "#plot the data as scatter, true = sept minima below 4.2mnsqkm, false means above 4.2 mnsqkm\n",
    "# can you observe a reasonable degree of clustering?\n",
    "# this indicates that indeed, there may be a relationship\n",
    "sns.scatterplot(X_pca[:,0],X_pca[:,1],hue=y,s=50)"
   ]
  }
 ],
 "metadata": {
  "kernelspec": {
   "display_name": "Python 3",
   "language": "python",
   "name": "python3"
  },
  "language_info": {
   "codemirror_mode": {
    "name": "ipython",
    "version": 3
   },
   "file_extension": ".py",
   "mimetype": "text/x-python",
   "name": "python",
   "nbconvert_exporter": "python",
   "pygments_lexer": "ipython3",
   "version": "3.7.6"
  }
 },
 "nbformat": 4,
 "nbformat_minor": 4
}
